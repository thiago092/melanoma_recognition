{
 "cells": [
  {
   "cell_type": "code",
   "execution_count": 43,
   "metadata": {},
   "outputs": [],
   "source": [
    "import cv2\n",
    "import numpy as np\n"
   ]
  },
  {
   "cell_type": "code",
   "execution_count": 44,
   "metadata": {},
   "outputs": [],
   "source": [
    "#Read Image\n",
    "\n",
    "img = cv2.imread('mel2.png')\n"
   ]
  },
  {
   "cell_type": "code",
   "execution_count": 45,
   "metadata": {},
   "outputs": [],
   "source": [
    "#Display Image\n",
    "\n",
    "cv2.imshow('image',img)\n",
    "cv2.waitKey(0)\n",
    "cv2.destroyAllWindows()\n"
   ]
  },
  {
   "cell_type": "code",
   "execution_count": 46,
   "metadata": {},
   "outputs": [],
   "source": [
    "#resized image \n",
    "\n",
    "resized_image = cv2.resize(img, (300,300)) "
   ]
  },
  {
   "cell_type": "code",
   "execution_count": 47,
   "metadata": {},
   "outputs": [],
   "source": [
    "#Display Image\n",
    "\n",
    "cv2.imshow('redimensionada',resized_image)\n",
    "cv2.waitKey(0)\n",
    "cv2.destroyAllWindows()"
   ]
  },
  {
   "cell_type": "code",
   "execution_count": 48,
   "metadata": {},
   "outputs": [],
   "source": [
    "# apply the 3x3 median filter on the image\n",
    "\n",
    "processed_image = cv2.medianBlur(resized_image, 7)\n",
    "\n",
    "# display image\n",
    "\n",
    "cv2.imshow('Median Filter Processing', processed_image)\n",
    "cv2.waitKey(0)\n",
    "cv2.destroyAllWindows()"
   ]
  },
  {
   "cell_type": "code",
   "execution_count": 55,
   "metadata": {},
   "outputs": [
    {
     "data": {
      "text/plain": [
       "-1"
      ]
     },
     "execution_count": 55,
     "metadata": {},
     "output_type": "execute_result"
    }
   ],
   "source": [
    "gray = cv2.cvtColor(processed_image,cv2.COLOR_BGR2GRAY)\n",
    "_, mask = cv2.threshold(gray,0,255,cv2.THRESH_BINARY_INV+cv2.THRESH_OTSU)\n",
    "cv2.imshow('Binarização',mask)\n",
    "cv2.waitKey(0)"
   ]
  },
  {
   "cell_type": "code",
   "execution_count": 56,
   "metadata": {},
   "outputs": [
    {
     "data": {
      "text/plain": [
       "-1"
      ]
     },
     "execution_count": 56,
     "metadata": {},
     "output_type": "execute_result"
    }
   ],
   "source": [
    "#Preenche os quatro cantos da imagem binária\n",
    "\n",
    "w, h = mask.shape[::-1]\n",
    "cv2.floodFill(mask, None, (0, 0), 0)\n",
    "cv2.floodFill(mask, None, (w-1, 0), 0)\n",
    "cv2.floodFill(mask, None, (0, h-1), 0)\n",
    "cv2.floodFill(mask, None, (w-1, h-1), 0)\n",
    "cv2.imshow('mask',mask)\n",
    "cv2.waitKey(0)\n",
    "\n",
    "#Lógica AND para obter da imagem original a encontrada pela criação do mask\n",
    "\n",
    "img = cv2.bitwise_and(processed_image, processed_image, mask=mask )\n",
    "cv2.imshow('AND',img)\n",
    "cv2.waitKey(0)"
   ]
  },
  {
   "cell_type": "code",
   "execution_count": 57,
   "metadata": {},
   "outputs": [
    {
     "data": {
      "text/plain": [
       "-1"
      ]
     },
     "execution_count": 57,
     "metadata": {},
     "output_type": "execute_result"
    }
   ],
   "source": [
    "kernel = np.ones((3,3),np.uint8)\n",
    "\n",
    "#Canny Edges\n",
    "\n",
    "edges = cv2.Canny(img, 100,200)\n",
    "dilate = cv2.dilate(edges,kernel,iterations=1)\n",
    "dilate = cv2.bitwise_not(dilate)\n",
    "cv2.imshow('Canny',dilate)\n",
    "cv2.waitKey(0)\n"
   ]
  },
  {
   "cell_type": "code",
   "execution_count": 58,
   "metadata": {},
   "outputs": [
    {
     "data": {
      "text/plain": [
       "-1"
      ]
     },
     "execution_count": 58,
     "metadata": {},
     "output_type": "execute_result"
    }
   ],
   "source": [
    "#Lógica OR para retirar da imagem original os pêlos encontrados\n",
    "\n",
    "img = cv2.bitwise_or(img, img, mask=dilate )\n",
    "cv2.imshow('Edges',img)\n",
    "cv2.waitKey(0)"
   ]
  },
  {
   "cell_type": "code",
   "execution_count": 59,
   "metadata": {},
   "outputs": [
    {
     "data": {
      "text/plain": [
       "-1"
      ]
     },
     "execution_count": 59,
     "metadata": {},
     "output_type": "execute_result"
    }
   ],
   "source": [
    "#Interpolação da imagem para preencher os vazios\n",
    "\n",
    "dilate = cv2.bitwise_not(dilate)\n",
    "inpaint = cv2.inpaint(img, dilate, 3,cv2.INPAINT_TELEA)\n",
    "cv2.imshow('InPaint', inpaint)\n",
    "cv2.waitKey(0)"
   ]
  },
  {
   "cell_type": "code",
   "execution_count": null,
   "metadata": {},
   "outputs": [],
   "source": []
  },
  {
   "cell_type": "code",
   "execution_count": null,
   "metadata": {},
   "outputs": [],
   "source": []
  }
 ],
 "metadata": {
  "kernelspec": {
   "display_name": "Python 3",
   "language": "python",
   "name": "python3"
  },
  "language_info": {
   "codemirror_mode": {
    "name": "ipython",
    "version": 3
   },
   "file_extension": ".py",
   "mimetype": "text/x-python",
   "name": "python",
   "nbconvert_exporter": "python",
   "pygments_lexer": "ipython3",
   "version": "3.7.3"
  }
 },
 "nbformat": 4,
 "nbformat_minor": 2
}
